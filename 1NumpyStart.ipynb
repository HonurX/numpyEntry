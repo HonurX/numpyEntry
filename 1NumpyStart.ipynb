{
 "cells": [
  {
   "cell_type": "code",
   "execution_count": 23,
   "id": "1e6467a1-40f3-496c-868b-b1f459f99899",
   "metadata": {},
   "outputs": [],
   "source": [
    "import numpy as np "
   ]
  },
  {
   "cell_type": "code",
   "execution_count": 24,
   "id": "9690ecf5-e934-4e9e-9037-e737cb5fe738",
   "metadata": {},
   "outputs": [],
   "source": [
    "import matplotlib as mt\n"
   ]
  },
  {
   "cell_type": "code",
   "execution_count": 25,
   "id": "6a524942-1229-4a6c-a804-aca502a368fc",
   "metadata": {},
   "outputs": [],
   "source": [
    "import pandas as pd"
   ]
  },
  {
   "cell_type": "code",
   "execution_count": null,
   "id": "6a8bb65a-449c-4a91-808a-35ea98a8920e",
   "metadata": {},
   "outputs": [],
   "source": []
  },
  {
   "cell_type": "code",
   "execution_count": null,
   "id": "0eca21f7-fa5e-47d7-a24a-7df1dea3d05b",
   "metadata": {},
   "outputs": [],
   "source": []
  },
  {
   "cell_type": "markdown",
   "id": "a600750b-4349-426e-9e3c-cc3c5db95bb1",
   "metadata": {},
   "source": [
    "NUMPY ARRAY\n"
   ]
  },
  {
   "cell_type": "code",
   "execution_count": 27,
   "id": "a3bf115a-a5de-489e-9a04-7aae69dc9469",
   "metadata": {},
   "outputs": [],
   "source": [
    "myNumpyList = [20,30,40]\n"
   ]
  },
  {
   "cell_type": "code",
   "execution_count": null,
   "id": "1b7f062c-3b9d-4804-90ce-583137c01a01",
   "metadata": {},
   "outputs": [],
   "source": []
  },
  {
   "cell_type": "code",
   "execution_count": 28,
   "id": "3e316821-c087-402f-817a-b5f30144ee9a",
   "metadata": {},
   "outputs": [
    {
     "data": {
      "text/plain": [
       "array([20, 30, 40])"
      ]
     },
     "execution_count": 28,
     "metadata": {},
     "output_type": "execute_result"
    }
   ],
   "source": [
    "np.array(myNumpyList)\n"
   ]
  },
  {
   "cell_type": "code",
   "execution_count": 29,
   "id": "c4d765c6-5bb4-46f3-8ff2-5cf48b0ec0c3",
   "metadata": {},
   "outputs": [],
   "source": [
    "myMatrixList = [[20,40,50,] , [30,40,50] , [10,40,60]]"
   ]
  },
  {
   "cell_type": "code",
   "execution_count": 30,
   "id": "f08b4b5c-7b8c-4eba-befb-7e3d9a2ac31c",
   "metadata": {},
   "outputs": [
    {
     "data": {
      "text/plain": [
       "array([[20, 40, 50],\n",
       "       [30, 40, 50],\n",
       "       [10, 40, 60]])"
      ]
     },
     "execution_count": 30,
     "metadata": {},
     "output_type": "execute_result"
    }
   ],
   "source": [
    "np.array(myMatrixList)"
   ]
  },
  {
   "cell_type": "code",
   "execution_count": 31,
   "id": "e68d0741-7534-4f6f-a9b1-eda02f446fa5",
   "metadata": {},
   "outputs": [
    {
     "data": {
      "text/plain": [
       "list"
      ]
     },
     "execution_count": 31,
     "metadata": {},
     "output_type": "execute_result"
    }
   ],
   "source": [
    "type(myMatrixList)"
   ]
  },
  {
   "cell_type": "markdown",
   "id": "b0d4de5d-5b99-4f17-bedf-b1e0334c06c0",
   "metadata": {},
   "source": [
    "##ARANGE\n"
   ]
  },
  {
   "cell_type": "code",
   "execution_count": 33,
   "id": "0e26aa8d-b18f-41d8-9717-cf4cef52fb14",
   "metadata": {},
   "outputs": [
    {
     "data": {
      "text/plain": [
       "<function numpy.arange>"
      ]
     },
     "execution_count": 33,
     "metadata": {},
     "output_type": "execute_result"
    }
   ],
   "source": [
    "np.arange\n"
   ]
  },
  {
   "cell_type": "code",
   "execution_count": 34,
   "id": "4278fea5-ac1b-41d0-8322-200f9ed2ca5a",
   "metadata": {},
   "outputs": [
    {
     "data": {
      "text/plain": [
       "[1, 2, 3, 4, 5, 6, 7, 8, 9]"
      ]
     },
     "execution_count": 34,
     "metadata": {},
     "output_type": "execute_result"
    }
   ],
   "source": [
    "list(range(1,10))"
   ]
  },
  {
   "cell_type": "code",
   "execution_count": 35,
   "id": "19cf489b-4bae-4b4d-8e7b-cf072ed41778",
   "metadata": {},
   "outputs": [
    {
     "data": {
      "text/plain": [
       "array([1, 2, 3, 4, 5, 6, 7, 8, 9])"
      ]
     },
     "execution_count": 35,
     "metadata": {},
     "output_type": "execute_result"
    }
   ],
   "source": [
    "np.arange(1,10)"
   ]
  },
  {
   "cell_type": "code",
   "execution_count": 36,
   "id": "e5450397-858b-473a-8996-f14cdb715d6b",
   "metadata": {},
   "outputs": [],
   "source": [
    "myArangeList = np.arange(1,10,2)"
   ]
  },
  {
   "cell_type": "code",
   "execution_count": 37,
   "id": "21f03bae-bdab-4159-b7da-1e45a04d42c0",
   "metadata": {},
   "outputs": [
    {
     "data": {
      "text/plain": [
       "array([1, 3, 5, 7, 9])"
      ]
     },
     "execution_count": 37,
     "metadata": {},
     "output_type": "execute_result"
    }
   ],
   "source": [
    "myArangeList"
   ]
  },
  {
   "cell_type": "markdown",
   "id": "41e171ee-2cb8-4faa-9e3e-976d9a89171b",
   "metadata": {},
   "source": [
    "##ZEROS"
   ]
  },
  {
   "cell_type": "code",
   "execution_count": 39,
   "id": "0d0a77d9-dd36-4d86-80d3-785ab631a928",
   "metadata": {},
   "outputs": [
    {
     "data": {
      "text/plain": [
       "array([0., 0., 0., 0., 0.])"
      ]
     },
     "execution_count": 39,
     "metadata": {},
     "output_type": "execute_result"
    }
   ],
   "source": [
    "np.zeros(5)"
   ]
  },
  {
   "cell_type": "code",
   "execution_count": 40,
   "id": "40400416-34e6-447e-9a37-bd58aca16f4d",
   "metadata": {},
   "outputs": [
    {
     "data": {
      "text/plain": [
       "array([[0., 0., 0., 0., 0.],\n",
       "       [0., 0., 0., 0., 0.],\n",
       "       [0., 0., 0., 0., 0.],\n",
       "       [0., 0., 0., 0., 0.],\n",
       "       [0., 0., 0., 0., 0.]])"
      ]
     },
     "execution_count": 40,
     "metadata": {},
     "output_type": "execute_result"
    }
   ],
   "source": [
    "np.zeros((5,5))"
   ]
  },
  {
   "cell_type": "markdown",
   "id": "9788b55e-50d4-42df-89ea-8d29e2767bfa",
   "metadata": {},
   "source": [
    "##ONES"
   ]
  },
  {
   "cell_type": "code",
   "execution_count": 42,
   "id": "12edddc9-44e2-456e-852d-38d28e5e1962",
   "metadata": {},
   "outputs": [
    {
     "data": {
      "text/plain": [
       "array([1., 1., 1., 1., 1.])"
      ]
     },
     "execution_count": 42,
     "metadata": {},
     "output_type": "execute_result"
    }
   ],
   "source": [
    "np.ones(5)"
   ]
  },
  {
   "cell_type": "code",
   "execution_count": 43,
   "id": "1dfd6ed7-cdcc-4203-b744-6fcdef973a43",
   "metadata": {},
   "outputs": [
    {
     "data": {
      "text/plain": [
       "array([[1., 1., 1., 1., 1.],\n",
       "       [1., 1., 1., 1., 1.],\n",
       "       [1., 1., 1., 1., 1.],\n",
       "       [1., 1., 1., 1., 1.],\n",
       "       [1., 1., 1., 1., 1.]])"
      ]
     },
     "execution_count": 43,
     "metadata": {},
     "output_type": "execute_result"
    }
   ],
   "source": [
    "np.ones((5,5))"
   ]
  },
  {
   "cell_type": "markdown",
   "id": "b2626c59-ad86-46cc-b8d7-56448539e520",
   "metadata": {},
   "source": [
    "##LINSPACE\n"
   ]
  },
  {
   "cell_type": "code",
   "execution_count": 45,
   "id": "9ff1b52c-47f3-4a0e-a26b-0dd173a246cf",
   "metadata": {},
   "outputs": [
    {
     "data": {
      "text/plain": [
       "array([ 0.        ,  1.11111111,  2.22222222,  3.33333333,  4.44444444,\n",
       "        5.55555556,  6.66666667,  7.77777778,  8.88888889, 10.        ])"
      ]
     },
     "execution_count": 45,
     "metadata": {},
     "output_type": "execute_result"
    }
   ],
   "source": [
    "np.linspace(0,10,10)\n"
   ]
  },
  {
   "cell_type": "code",
   "execution_count": 46,
   "id": "d1f85967-cd92-4213-9ac9-93d1f2ba2d99",
   "metadata": {},
   "outputs": [
    {
     "data": {
      "text/plain": [
       "array([  1.,   2.,   3.,   4.,   5.,   6.,   7.,   8.,   9.,  10.,  11.,\n",
       "        12.,  13.,  14.,  15.,  16.,  17.,  18.,  19.,  20.,  21.,  22.,\n",
       "        23.,  24.,  25.,  26.,  27.,  28.,  29.,  30.,  31.,  32.,  33.,\n",
       "        34.,  35.,  36.,  37.,  38.,  39.,  40.,  41.,  42.,  43.,  44.,\n",
       "        45.,  46.,  47.,  48.,  49.,  50.,  51.,  52.,  53.,  54.,  55.,\n",
       "        56.,  57.,  58.,  59.,  60.,  61.,  62.,  63.,  64.,  65.,  66.,\n",
       "        67.,  68.,  69.,  70.,  71.,  72.,  73.,  74.,  75.,  76.,  77.,\n",
       "        78.,  79.,  80.,  81.,  82.,  83.,  84.,  85.,  86.,  87.,  88.,\n",
       "        89.,  90.,  91.,  92.,  93.,  94.,  95.,  96.,  97.,  98.,  99.,\n",
       "       100.])"
      ]
     },
     "execution_count": 46,
     "metadata": {},
     "output_type": "execute_result"
    }
   ],
   "source": [
    "np.linspace(1,100,100)"
   ]
  },
  {
   "cell_type": "code",
   "execution_count": 47,
   "id": "58c3472d-429f-48b3-9d48-5d3b66a25db9",
   "metadata": {},
   "outputs": [
    {
     "data": {
      "text/plain": [
       "array([ 0.        ,  0.20408163,  0.40816327,  0.6122449 ,  0.81632653,\n",
       "        1.02040816,  1.2244898 ,  1.42857143,  1.63265306,  1.83673469,\n",
       "        2.04081633,  2.24489796,  2.44897959,  2.65306122,  2.85714286,\n",
       "        3.06122449,  3.26530612,  3.46938776,  3.67346939,  3.87755102,\n",
       "        4.08163265,  4.28571429,  4.48979592,  4.69387755,  4.89795918,\n",
       "        5.10204082,  5.30612245,  5.51020408,  5.71428571,  5.91836735,\n",
       "        6.12244898,  6.32653061,  6.53061224,  6.73469388,  6.93877551,\n",
       "        7.14285714,  7.34693878,  7.55102041,  7.75510204,  7.95918367,\n",
       "        8.16326531,  8.36734694,  8.57142857,  8.7755102 ,  8.97959184,\n",
       "        9.18367347,  9.3877551 ,  9.59183673,  9.79591837, 10.        ])"
      ]
     },
     "execution_count": 47,
     "metadata": {},
     "output_type": "execute_result"
    }
   ],
   "source": [
    "np.linspace(0,10,50)"
   ]
  },
  {
   "cell_type": "code",
   "execution_count": 48,
   "id": "820cf28e-2457-486b-9512-4bfab6576366",
   "metadata": {},
   "outputs": [
    {
     "data": {
      "text/plain": [
       "array([ 0.,  4.,  8., 12., 16., 20.])"
      ]
     },
     "execution_count": 48,
     "metadata": {},
     "output_type": "execute_result"
    }
   ],
   "source": [
    "np.linspace(0,20,6)"
   ]
  },
  {
   "cell_type": "markdown",
   "id": "75773ac4-759f-4e8e-ad17-6bf68b748fde",
   "metadata": {},
   "source": [
    "##EYE"
   ]
  },
  {
   "cell_type": "code",
   "execution_count": 50,
   "id": "faa88900-0d41-4a0f-a20b-9230f38cd426",
   "metadata": {},
   "outputs": [
    {
     "data": {
      "text/plain": [
       "array([[1., 0., 0., 0., 0., 0., 0., 0., 0., 0.],\n",
       "       [0., 1., 0., 0., 0., 0., 0., 0., 0., 0.],\n",
       "       [0., 0., 1., 0., 0., 0., 0., 0., 0., 0.],\n",
       "       [0., 0., 0., 1., 0., 0., 0., 0., 0., 0.],\n",
       "       [0., 0., 0., 0., 1., 0., 0., 0., 0., 0.],\n",
       "       [0., 0., 0., 0., 0., 1., 0., 0., 0., 0.],\n",
       "       [0., 0., 0., 0., 0., 0., 1., 0., 0., 0.],\n",
       "       [0., 0., 0., 0., 0., 0., 0., 1., 0., 0.],\n",
       "       [0., 0., 0., 0., 0., 0., 0., 0., 1., 0.],\n",
       "       [0., 0., 0., 0., 0., 0., 0., 0., 0., 1.]])"
      ]
     },
     "execution_count": 50,
     "metadata": {},
     "output_type": "execute_result"
    }
   ],
   "source": [
    "np.eye(10)"
   ]
  },
  {
   "cell_type": "code",
   "execution_count": 51,
   "id": "1a055f8d-59bf-4752-adff-45a36e6b9bb1",
   "metadata": {},
   "outputs": [
    {
     "data": {
      "text/plain": [
       "array([[1., 0., 0., 0., 0.],\n",
       "       [0., 1., 0., 0., 0.],\n",
       "       [0., 0., 1., 0., 0.],\n",
       "       [0., 0., 0., 1., 0.],\n",
       "       [0., 0., 0., 0., 1.]])"
      ]
     },
     "execution_count": 51,
     "metadata": {},
     "output_type": "execute_result"
    }
   ],
   "source": [
    "np.eye(5)"
   ]
  },
  {
   "cell_type": "code",
   "execution_count": 52,
   "id": "89eedb98-0af2-4cfb-966e-ee3686f8e87d",
   "metadata": {},
   "outputs": [
    {
     "data": {
      "text/plain": [
       "array([ 1,  2,  3,  4,  5,  6,  7,  8,  9, 10, 11, 12, 13, 14, 15, 16, 17,\n",
       "       18, 19])"
      ]
     },
     "execution_count": 52,
     "metadata": {},
     "output_type": "execute_result"
    }
   ],
   "source": [
    "np.arange(1,20)"
   ]
  },
  {
   "cell_type": "code",
   "execution_count": 101,
   "id": "b407fec6-dea8-4eae-98e4-f29f0c111b79",
   "metadata": {},
   "outputs": [],
   "source": [
    "myNewArray = [1,2,3]"
   ]
  },
  {
   "cell_type": "code",
   "execution_count": null,
   "id": "49addac2-e6d4-4c52-b0f5-29e277f13776",
   "metadata": {},
   "outputs": [],
   "source": []
  },
  {
   "cell_type": "code",
   "execution_count": 103,
   "id": "1c042cb3-dc4a-469d-b90e-9706233e4994",
   "metadata": {},
   "outputs": [],
   "source": [
    "myNewArray = np.array"
   ]
  },
  {
   "cell_type": "code",
   "execution_count": 105,
   "id": "6fe40d1f-c580-4c95-8fd1-e60ec51ae857",
   "metadata": {},
   "outputs": [
    {
     "data": {
      "text/plain": [
       "<function numpy.array>"
      ]
     },
     "execution_count": 105,
     "metadata": {},
     "output_type": "execute_result"
    }
   ],
   "source": [
    "myNewArray"
   ]
  },
  {
   "cell_type": "code",
   "execution_count": 107,
   "id": "35668756-efd2-4cc3-a242-e43d4c53e5b0",
   "metadata": {},
   "outputs": [
    {
     "data": {
      "text/plain": [
       "array([ 1,  4,  7, 10, 13, 16, 19, 22, 25, 28, 31, 34, 37, 40, 43, 46, 49])"
      ]
     },
     "execution_count": 107,
     "metadata": {},
     "output_type": "execute_result"
    }
   ],
   "source": [
    "np.arange(1,50,3)"
   ]
  },
  {
   "cell_type": "code",
   "execution_count": 109,
   "id": "a01d7d3e-f324-4a28-a175-cd30291b18e3",
   "metadata": {},
   "outputs": [],
   "source": [
    "myLiST = np.arange(1,10)"
   ]
  },
  {
   "cell_type": "code",
   "execution_count": 115,
   "id": "cce3491f-89f7-4f17-9d38-bc8269889c51",
   "metadata": {},
   "outputs": [
    {
     "data": {
      "text/plain": [
       "array([1, 2, 3, 4, 5, 6, 7, 8, 9])"
      ]
     },
     "execution_count": 115,
     "metadata": {},
     "output_type": "execute_result"
    }
   ],
   "source": [
    "myLiST"
   ]
  },
  {
   "cell_type": "code",
   "execution_count": 117,
   "id": "50701f91-d2eb-49d0-894a-ee82d57b794e",
   "metadata": {},
   "outputs": [
    {
     "data": {
      "text/plain": [
       "9"
      ]
     },
     "execution_count": 117,
     "metadata": {},
     "output_type": "execute_result"
    }
   ],
   "source": [
    "myLiST.max()"
   ]
  },
  {
   "cell_type": "code",
   "execution_count": 119,
   "id": "8bb64a94-0e18-460a-9a29-349415618fe3",
   "metadata": {},
   "outputs": [
    {
     "data": {
      "text/plain": [
       "1"
      ]
     },
     "execution_count": 119,
     "metadata": {},
     "output_type": "execute_result"
    }
   ],
   "source": [
    "myLiST.min()"
   ]
  },
  {
   "cell_type": "code",
   "execution_count": 121,
   "id": "e2e428d2-6257-4ef9-a3e8-abf1910d9e1f",
   "metadata": {},
   "outputs": [
    {
     "data": {
      "text/plain": [
       "8"
      ]
     },
     "execution_count": 121,
     "metadata": {},
     "output_type": "execute_result"
    }
   ],
   "source": [
    "myLiST.argmax()"
   ]
  },
  {
   "cell_type": "code",
   "execution_count": 123,
   "id": "a0e9e1f0-a6d6-4b1e-ae4c-2359bf1b3822",
   "metadata": {},
   "outputs": [
    {
     "data": {
      "text/plain": [
       "0"
      ]
     },
     "execution_count": 123,
     "metadata": {},
     "output_type": "execute_result"
    }
   ],
   "source": [
    "myLiST.argmin()"
   ]
  },
  {
   "cell_type": "code",
   "execution_count": 125,
   "id": "ab30d4a2-23c0-44a9-8abe-459531bf1609",
   "metadata": {},
   "outputs": [
    {
     "ename": "TypeError",
     "evalue": "'tuple' object is not callable",
     "output_type": "error",
     "traceback": [
      "\u001b[1;31m---------------------------------------------------------------------------\u001b[0m",
      "\u001b[1;31mTypeError\u001b[0m                                 Traceback (most recent call last)",
      "Cell \u001b[1;32mIn[125], line 1\u001b[0m\n\u001b[1;32m----> 1\u001b[0m myLiST\u001b[38;5;241m.\u001b[39mshape(\u001b[38;5;241m3\u001b[39m,\u001b[38;5;241m3\u001b[39m)\n",
      "\u001b[1;31mTypeError\u001b[0m: 'tuple' object is not callable"
     ]
    }
   ],
   "source": [
    "myLiST.shape(3,3)"
   ]
  },
  {
   "cell_type": "code",
   "execution_count": 127,
   "id": "e6c6002b-c443-447d-aafd-888b75a316c6",
   "metadata": {},
   "outputs": [
    {
     "data": {
      "text/plain": [
       "array([[1, 2, 3],\n",
       "       [4, 5, 6],\n",
       "       [7, 8, 9]])"
      ]
     },
     "execution_count": 127,
     "metadata": {},
     "output_type": "execute_result"
    }
   ],
   "source": [
    "myLiST.reshape(3,3)"
   ]
  },
  {
   "cell_type": "code",
   "execution_count": 129,
   "id": "0d385731-ce3d-49c6-9429-32b736ee60d1",
   "metadata": {},
   "outputs": [],
   "source": [
    "myNumpyList = np.arange(0,31)"
   ]
  },
  {
   "cell_type": "code",
   "execution_count": 131,
   "id": "2ad205f1-502a-48cb-8bbe-2e44aa68599a",
   "metadata": {},
   "outputs": [
    {
     "data": {
      "text/plain": [
       "array([ 0,  1,  2,  3,  4,  5,  6,  7,  8,  9, 10, 11, 12, 13, 14, 15, 16,\n",
       "       17, 18, 19, 20, 21, 22, 23, 24, 25, 26, 27, 28, 29, 30])"
      ]
     },
     "execution_count": 131,
     "metadata": {},
     "output_type": "execute_result"
    }
   ],
   "source": [
    "myNumpyList"
   ]
  },
  {
   "cell_type": "code",
   "execution_count": 137,
   "id": "bfd10279-cc3b-4d4d-810d-fd16903f3a75",
   "metadata": {},
   "outputs": [
    {
     "data": {
      "text/plain": [
       "array([[[-0.29940523, -0.11163594, -1.6195153 , -0.92938536,\n",
       "          0.27527279],\n",
       "        [-0.78626343, -0.70574368,  0.07052809, -0.87951336,\n",
       "         -0.25865795],\n",
       "        [ 1.37482329, -0.41745906, -0.63963579,  0.20241211,\n",
       "         -0.3863526 ],\n",
       "        [ 1.25271399, -0.95767048, -0.33844622, -1.79106872,\n",
       "          2.15919221],\n",
       "        [-0.25948849, -0.73168914, -0.73656089,  0.29738423,\n",
       "         -0.27575644],\n",
       "        [ 2.08320567, -0.58123518,  1.03414477,  0.96404072,\n",
       "          0.26517946],\n",
       "        [-0.08175978,  0.86384511,  0.00309016, -1.95180153,\n",
       "         -1.54222789],\n",
       "        [ 0.25143722, -0.53874286, -0.23469415,  0.30950752,\n",
       "          0.31128756],\n",
       "        [-0.30247457,  0.04834943, -0.73759443, -2.83571288,\n",
       "          1.83180325],\n",
       "        [-0.01469051, -0.76313497,  0.25225375, -0.57488901,\n",
       "         -0.51727058]]])"
      ]
     },
     "execution_count": 137,
     "metadata": {},
     "output_type": "execute_result"
    }
   ],
   "source": [
    "np.random.randn(1,10,5)"
   ]
  },
  {
   "cell_type": "code",
   "execution_count": 139,
   "id": "a21cbcbf-7db3-480e-9d3d-37b2d24facfa",
   "metadata": {},
   "outputs": [],
   "source": [
    "myRandom = np.random.randn(1,10,1)"
   ]
  },
  {
   "cell_type": "code",
   "execution_count": 141,
   "id": "7b9fd02a-7449-470a-99c2-1d4926d2dc3c",
   "metadata": {},
   "outputs": [
    {
     "data": {
      "text/plain": [
       "array([[[-1.91197585],\n",
       "        [ 1.75313607],\n",
       "        [-0.10833244],\n",
       "        [ 1.66233626],\n",
       "        [ 1.31960252],\n",
       "        [-1.58820066],\n",
       "        [-0.67187659],\n",
       "        [ 0.20566539],\n",
       "        [ 1.27312632],\n",
       "        [-0.13295799]]])"
      ]
     },
     "execution_count": 141,
     "metadata": {},
     "output_type": "execute_result"
    }
   ],
   "source": [
    "myRandom"
   ]
  },
  {
   "cell_type": "code",
   "execution_count": 149,
   "id": "69db5dc6-bbd1-4273-a1ea-f2057ced8a86",
   "metadata": {},
   "outputs": [],
   "source": [
    "myRandomInt = np.random.randint(1,30,5)"
   ]
  },
  {
   "cell_type": "code",
   "execution_count": 151,
   "id": "de79a4a7-2437-4f65-91ef-1c119a8a206d",
   "metadata": {},
   "outputs": [
    {
     "data": {
      "text/plain": [
       "array([15, 12, 13,  2,  8])"
      ]
     },
     "execution_count": 151,
     "metadata": {},
     "output_type": "execute_result"
    }
   ],
   "source": [
    "myRandomInt"
   ]
  },
  {
   "cell_type": "code",
   "execution_count": 153,
   "id": "973c1c7e-be5c-4beb-a812-5ae7d4b22164",
   "metadata": {},
   "outputs": [],
   "source": [
    "myRandomInt = np.random.randn()"
   ]
  },
  {
   "cell_type": "code",
   "execution_count": 155,
   "id": "3b987890-9d95-4953-908a-6b1397a3aea0",
   "metadata": {},
   "outputs": [
    {
     "data": {
      "text/plain": [
       "1.254270524693444"
      ]
     },
     "execution_count": 155,
     "metadata": {},
     "output_type": "execute_result"
    }
   ],
   "source": [
    "myRandomInt"
   ]
  },
  {
   "cell_type": "code",
   "execution_count": 157,
   "id": "79bea2c9-cff8-464d-bd6f-df93153a002d",
   "metadata": {},
   "outputs": [
    {
     "data": {
      "text/plain": [
       "array([-0.18567649,  1.44381804,  0.39871462,  0.15580356])"
      ]
     },
     "execution_count": 157,
     "metadata": {},
     "output_type": "execute_result"
    }
   ],
   "source": [
    "np.random.randn(4)"
   ]
  },
  {
   "cell_type": "code",
   "execution_count": 159,
   "id": "250a09df-9f60-4ae9-9cc1-3529c2f1157a",
   "metadata": {},
   "outputs": [
    {
     "data": {
      "text/plain": [
       "array([[-1.38042887, -0.15367335, -0.70849489,  0.05138664],\n",
       "       [-1.4343879 , -0.43084489, -0.54812102,  0.5965372 ],\n",
       "       [-0.39623218, -1.76522008, -0.39737706, -0.54691792],\n",
       "       [ 0.11755566, -0.79306217, -1.16799952,  0.50514633]])"
      ]
     },
     "execution_count": 159,
     "metadata": {},
     "output_type": "execute_result"
    }
   ],
   "source": [
    "np.random.randn(4,4)"
   ]
  },
  {
   "cell_type": "code",
   "execution_count": 165,
   "id": "a3cff687-b08d-4312-8fee-f767d812ef0d",
   "metadata": {},
   "outputs": [
    {
     "data": {
      "text/plain": [
       "2"
      ]
     },
     "execution_count": 165,
     "metadata": {},
     "output_type": "execute_result"
    }
   ],
   "source": [
    "np.random.randint(1,10)"
   ]
  },
  {
   "cell_type": "code",
   "execution_count": null,
   "id": "23330c97-7d7d-45a4-bf31-13383fbf3801",
   "metadata": {},
   "outputs": [],
   "source": []
  },
  {
   "cell_type": "code",
   "execution_count": null,
   "id": "0ff17c91-851b-4179-b4c5-0cc923672623",
   "metadata": {},
   "outputs": [],
   "source": []
  },
  {
   "cell_type": "code",
   "execution_count": null,
   "id": "fc20a675-9636-4148-bca7-493a5b744030",
   "metadata": {},
   "outputs": [],
   "source": []
  },
  {
   "cell_type": "code",
   "execution_count": null,
   "id": "c55c6643-c2b4-4afb-b0db-0da45b86d4eb",
   "metadata": {},
   "outputs": [],
   "source": []
  },
  {
   "cell_type": "code",
   "execution_count": null,
   "id": "e2670d8e-6fd6-4e24-88ee-04a597e24305",
   "metadata": {},
   "outputs": [],
   "source": []
  },
  {
   "cell_type": "code",
   "execution_count": null,
   "id": "6c5f5e99-1fbe-4249-8a6f-62e2708d6b7c",
   "metadata": {},
   "outputs": [],
   "source": []
  },
  {
   "cell_type": "code",
   "execution_count": null,
   "id": "7e037038-442d-4821-a0c9-7c9c555e24ca",
   "metadata": {},
   "outputs": [],
   "source": []
  },
  {
   "cell_type": "code",
   "execution_count": null,
   "id": "93c8b563-cc6a-446a-aa72-077f102ead37",
   "metadata": {},
   "outputs": [],
   "source": []
  },
  {
   "cell_type": "code",
   "execution_count": null,
   "id": "05957e58-037e-4e98-909c-a5cbf35ea499",
   "metadata": {},
   "outputs": [],
   "source": []
  },
  {
   "cell_type": "code",
   "execution_count": null,
   "id": "f776f970-9274-415a-8cc0-c6fc9a4beedc",
   "metadata": {},
   "outputs": [],
   "source": []
  },
  {
   "cell_type": "code",
   "execution_count": null,
   "id": "ebfa47d6-6e0a-40f9-98d0-db0dcfd43cd2",
   "metadata": {},
   "outputs": [],
   "source": []
  },
  {
   "cell_type": "code",
   "execution_count": null,
   "id": "fa5b5d46-913f-42a0-8eae-fabc3b1f2f64",
   "metadata": {},
   "outputs": [],
   "source": []
  },
  {
   "cell_type": "code",
   "execution_count": null,
   "id": "1d29154c-ee1e-48c6-8c36-3b0f373b9dec",
   "metadata": {},
   "outputs": [],
   "source": []
  },
  {
   "cell_type": "code",
   "execution_count": null,
   "id": "6ba2772b-6ada-4ae5-9b49-3b19df9f7e03",
   "metadata": {},
   "outputs": [],
   "source": []
  },
  {
   "cell_type": "code",
   "execution_count": null,
   "id": "65b7e9fa-073c-4511-b3f6-979c31beb3aa",
   "metadata": {},
   "outputs": [],
   "source": []
  },
  {
   "cell_type": "code",
   "execution_count": null,
   "id": "0d9841ae-0d08-441d-aadb-5f41d441132d",
   "metadata": {},
   "outputs": [],
   "source": []
  },
  {
   "cell_type": "code",
   "execution_count": null,
   "id": "0f1ffb55-5e2b-479d-8843-1dc66c4e10d7",
   "metadata": {},
   "outputs": [],
   "source": []
  },
  {
   "cell_type": "code",
   "execution_count": null,
   "id": "f0cb57bc-0b98-4f1c-bebb-82ddcadbdd44",
   "metadata": {},
   "outputs": [],
   "source": []
  },
  {
   "cell_type": "code",
   "execution_count": null,
   "id": "b9b92426-17d4-475d-a90f-6d0a69f63216",
   "metadata": {},
   "outputs": [],
   "source": []
  },
  {
   "cell_type": "code",
   "execution_count": null,
   "id": "8a0998b9-cff3-4458-9511-0b63f0522738",
   "metadata": {},
   "outputs": [],
   "source": []
  },
  {
   "cell_type": "code",
   "execution_count": null,
   "id": "d5477f60-967f-482c-9da1-ff725a2432f5",
   "metadata": {},
   "outputs": [],
   "source": []
  },
  {
   "cell_type": "code",
   "execution_count": null,
   "id": "e4ee0072-8909-4e86-aa3d-7d1f2778135e",
   "metadata": {},
   "outputs": [],
   "source": []
  },
  {
   "cell_type": "code",
   "execution_count": null,
   "id": "1b866189-1a2b-46db-91a3-3b3175e95721",
   "metadata": {},
   "outputs": [],
   "source": []
  },
  {
   "cell_type": "code",
   "execution_count": null,
   "id": "c07a8cef-3caf-4613-869c-dff51b577490",
   "metadata": {},
   "outputs": [],
   "source": []
  },
  {
   "cell_type": "code",
   "execution_count": null,
   "id": "eee4cbd2-8992-48db-befa-3f248006cdf4",
   "metadata": {},
   "outputs": [],
   "source": []
  }
 ],
 "metadata": {
  "kernelspec": {
   "display_name": "Python 3 (ipykernel)",
   "language": "python",
   "name": "python3"
  },
  "language_info": {
   "codemirror_mode": {
    "name": "ipython",
    "version": 3
   },
   "file_extension": ".py",
   "mimetype": "text/x-python",
   "name": "python",
   "nbconvert_exporter": "python",
   "pygments_lexer": "ipython3",
   "version": "3.12.4"
  }
 },
 "nbformat": 4,
 "nbformat_minor": 5
}
